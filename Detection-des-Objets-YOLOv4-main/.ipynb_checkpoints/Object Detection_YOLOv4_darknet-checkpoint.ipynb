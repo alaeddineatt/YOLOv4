{
  "nbformat": 4,
  "nbformat_minor": 0,
  "metadata": {
    "colab": {
      "name": "yolov4_myProject (2).ipynb",
      "private_outputs": true,
      "provenance": []
    },
    "kernelspec": {
      "name": "python3",
      "display_name": "Python 3"
    },
    "accelerator": "GPU"
  },
  "cells": [
    {
      "cell_type": "code",
      "metadata": {
        "id": "X-RtNPhr7-sO"
      },
      "source": [
        "from google.colab import drive\n",
        "drive.mount('/content/drive')"
      ],
      "execution_count": null,
      "outputs": []
    },
    {
      "cell_type": "code",
      "metadata": {
        "id": "ScuiPA1K8Mxq",
        "collapsed": true
      },
      "source": [
        "# clone darknet repo\n",
        "!git clone https://github.com/AlexeyAB/darknet"
      ],
      "execution_count": null,
      "outputs": []
    },
    {
      "cell_type": "code",
      "metadata": {
        "id": "q9uwVeSB8Qe-"
      },
      "source": [
        "# change makefile to have GPU and OPENCV enabled make sure to do this before the make\n",
        "%cd darknet\n",
        "!sed -i 's/OPENCV=0/OPENCV=1/' Makefile\n",
        "!sed -i 's/GPU=0/GPU=1/' Makefile\n",
        "!sed -i 's/CUDNN=0/CUDNN=1/' Makefile\n",
        "!sed -i 's/CUDNN_HALF=0/CUDNN_HALF=1/' Makefile"
      ],
      "execution_count": null,
      "outputs": []
    },
    {
      "cell_type": "code",
      "metadata": {
        "id": "2AYxlEu-8U-7"
      },
      "source": [
        "# verify CUDA\n",
        "!/usr/local/cuda/bin/nvcc --version"
      ],
      "execution_count": null,
      "outputs": []
    },
    {
      "cell_type": "code",
      "metadata": {
        "id": "2lU0OchB8YIe"
      },
      "source": [
        "# make darknet (builds darknet so that you can then use the darknet executable file to run or train object detectors)\n",
        "!make"
      ],
      "execution_count": null,
      "outputs": []
    },
    {
      "cell_type": "code",
      "metadata": {
        "id": "z8kLbCq59eyr"
      },
      "source": [
        "# in this cellul we gonna get the initial weights from github\r\n",
        "!wget https://github.com/AlexeyAB/darknet/releases/download/darknet_yolo_v3_optimal/yolov4.conv.137"
      ],
      "execution_count": null,
      "outputs": []
    },
    {
      "cell_type": "code",
      "metadata": {
        "id": "VUcZbD-n9gFE"
      },
      "source": [
        "# to run the train \r\n",
        "!cd /content/drive/MyDrive/yolo_5_9_13_30/train_scripts && bash train_darknet_script.sh"
      ],
      "execution_count": null,
      "outputs": []
    },
    {
      "cell_type": "code",
      "metadata": {
        "id": "JuheK7CLoP0H"
      },
      "source": [
        "# the command that launch the test in a specific data\r\n",
        "!./darknet detector test /content/drive/MyDrive/YOLO_train/data_names/project.data /content/drive/MyDrive/YOLO_train/cfg/yolov4.cfg /content/drive/MyDrive/YOLO_train/weights/yolov4_last.weights /content/drive/MyDrive/YOLO_train/testt.jpg"
      ],
      "execution_count": null,
      "outputs": []
    },
    {
      "cell_type": "code",
      "metadata": {
        "id": "eRdzJIifqNzN"
      },
      "source": [
        "# here we defin a function that help us to show the predections \r\n",
        "def imShow(path):\r\n",
        "  import cv2\r\n",
        "  import matplotlib.pyplot as plt\r\n",
        "  %matplotlib inline\r\n",
        "  image = cv2.imread(path)\r\n",
        "  height, width = image.shape[:2]\r\n",
        "  resized_image = cv2.resize(image,(3*width, 3*height), interpolation = cv2.INTER_CUBIC)\r\n",
        "  fig = plt.gcf()                                                           \r\n",
        "  fig.set_size_inches(18, 10)\r\n",
        "  plt.axis(\"off\")\r\n",
        "  plt.imshow(cv2.cvtColor(resized_image, cv2.COLOR_BGR2RGB))\r\n",
        "  plt.show()\r\n",
        "imShow('predictions.jpg')"
      ],
      "execution_count": null,
      "outputs": []
    },
    {
      "cell_type": "code",
      "metadata": {
        "id": "cbK7NOw_xTVK"
      },
      "source": [
        "!pip install opencv-python --upgrade\r\n"
      ],
      "execution_count": null,
      "outputs": []
    },
    {
      "cell_type": "code",
      "metadata": {
        "id": "5RekOpEdvecT"
      },
      "source": [
        "import cv2\r\n",
        "import numpy as np\r\n",
        "from os import listdir\r\n",
        "from os.path import isfile, join\r\n",
        "import pandas as pd\r\n",
        "\r\n",
        "scale = 0.00392\r\n",
        "classes_file = \"/content/drive/MyDrive/YOLO_train/data_names/project.names\"\r\n",
        "weights = \"/content/drive/MyDrive/Yolov3/yolov4_best.weights\"\r\n",
        "config_file = \"/content/drive/MyDrive/YOLO_train/cfg/yolov4.cfg\"\r\n",
        "\r\n",
        "# read class names from text file\r\n",
        "classes = None\r\n",
        "with open(classes_file, 'r') as f:\r\n",
        "    classes = [line.strip() for line in f.readlines()]\r\n",
        "\r\n",
        "# generate different colors for different classes\r\n",
        "COLORS = np.random.uniform(0, 255, size=(len(classes), 3))\r\n",
        "\r\n",
        "# read pre-trained model and config file\r\n",
        "net = cv2.dnn.readNetFromDarknet(config_file, weights)\r\n",
        "net.setPreferableBackend(cv2.dnn.DNN_BACKEND_OPENCV)\r\n",
        "\r\n",
        "\r\n",
        "def run(frame):\r\n",
        "    Width = frame.shape[1]\r\n",
        "    Height = frame.shape[0]\r\n",
        "\r\n",
        "    # create input blob\r\n",
        "    blob = cv2.dnn.blobFromImage(frame, scale, (416, 416), True, crop=False)\r\n",
        "\r\n",
        "    # set input blob for the network\r\n",
        "    net.setInput(blob)\r\n",
        "\r\n",
        "    # run inference through the network and gather predictions from output layers\r\n",
        "    outs = net.forward(get_output_layers(net))\r\n",
        "\r\n",
        "    # initialization\r\n",
        "    class_ids = []\r\n",
        "    confidences = []\r\n",
        "    boxes = []\r\n",
        "    conf_threshold = 0.5\r\n",
        "    nms_threshold = 0.4\r\n",
        "\r\n",
        "    # for each detetion from each output layer get the confidence, class id,\r\n",
        "    # bounding box params and ignore weak detections (confidence < 0.5)\r\n",
        "    velo, pieton, trottinette, masque, malmis, pas_de_masque = 0, 0, 0, 0, 0, 0\r\n",
        "    for out in outs:\r\n",
        "        for detection in out:\r\n",
        "            scores = detection[5:]\r\n",
        "            class_id = np.argmax(scores)\r\n",
        "            confidence = scores[class_id]\r\n",
        "            if confidence > 0.75:\r\n",
        "                center_x = int(detection[0] * Width)\r\n",
        "                center_y = int(detection[1] * Height)\r\n",
        "                w = int(detection[2] * Width)\r\n",
        "                h = int(detection[3] * Height)\r\n",
        "                x = center_x - w / 2\r\n",
        "                y = center_y - h / 2\r\n",
        "                class_ids.append(class_id)\r\n",
        "                confidences.append(float(confidence))\r\n",
        "                boxes.append([x, y, w, h])\r\n",
        "                if class_id == 0:\r\n",
        "                    velo += 1\r\n",
        "                elif class_id == 1:\r\n",
        "                    pieton += 1\r\n",
        "                elif class_id == 2:\r\n",
        "                    trottinette += 1\r\n",
        "                elif class_id == 3:\r\n",
        "                    masque += 1\r\n",
        "                elif class_id == 4:\r\n",
        "                    malmis += 1\r\n",
        "                elif class_id == 5:\r\n",
        "                    pas_de_masque += 1\r\n",
        "\r\n",
        "    return [velo, pieton, trottinette, masque, malmis, pas_de_masque]\r\n",
        "\r\n",
        "\r\n",
        "# function to get the output layer names in the architecture\r\n",
        "def get_output_layers(net):\r\n",
        "    layer_names = net.getLayerNames()\r\n",
        "\r\n",
        "    output_layers = [layer_names[i[0] - 1] for i in net.getUnconnectedOutLayers()]\r\n",
        "\r\n",
        "    return output_layers\r\n",
        "\r\n",
        "\r\n",
        "# function to draw bounding box on the detected object with class name\r\n",
        "def draw_bounding_box(img, class_id, confidence, x, y, x_plus_w, y_plus_h):\r\n",
        "    label = str(classes[class_id])\r\n",
        "\r\n",
        "    color = COLORS[class_id]\r\n",
        "\r\n",
        "    cv2.rectangle(img, (x, y), (x_plus_w, y_plus_h), color, 2)\r\n",
        "\r\n",
        "    cv2.putText(img, label, (x - 10, y - 10), cv2.FONT_HERSHEY_SIMPLEX, 0.5, color, 2)\r\n",
        "\r\n",
        "\r\n",
        "def imShow(image):\r\n",
        "    import cv2\r\n",
        "    import matplotlib.pyplot as plt\r\n",
        "\r\n",
        "    height, width = image.shape[:2]\r\n",
        "    resized_image = cv2.resize(image, (3 * width, 3 * height), interpolation=cv2.INTER_CUBIC)\r\n",
        "\r\n",
        "    fig = plt.gcf()\r\n",
        "    fig.set_size_inches(18, 10)\r\n",
        "    plt.axis(\"off\")\r\n",
        "    plt.imshow(cv2.cvtColor(resized_image, cv2.COLOR_BGR2RGB))\r\n",
        "    plt.show()\r\n",
        "\r\n",
        "\r\n",
        "onlyfiles = [f for f in listdir(\"/content/drive/MyDrive/yolo_5_9_13_30/images_run\") if isfile(join(\"/content/drive/MyDrive/yolo_5_9_13_30/images_run\", f))]\r\n",
        "\r\n",
        "results_1 = {\"filename\": [], \"pieton\": [], \"masque\": [], \"mal_mis\": []}\r\n",
        "results_2 = {\"filename\": [], \"trottinette\": [], \"velo\": []}\r\n",
        "results_3 = {\"filename\": [], \"pieton\": [], \"velo\": []}\r\n",
        "for i in onlyfiles:\r\n",
        "    img = cv2.imread(\"/content/drive/MyDrive/yolo_5_9_13_30/images_run/\" + i)\r\n",
        "    result = run(img)\r\n",
        "    results_1[\"filename\"].append(i)\r\n",
        "    results_1[\"pieton\"].append(result[1])\r\n",
        "    results_1[\"masque\"].append(result[3])\r\n",
        "    results_1[\"mal_mis\"].append(result[4])\r\n",
        "    results_2[\"filename\"].append(i)\r\n",
        "    results_2[\"velo\"].append(result[0])\r\n",
        "    results_2[\"trottinette\"].append(result[2])\r\n",
        "    results_3[\"filename\"].append(i)\r\n",
        "    results_3[\"velo\"].append(result[0])\r\n",
        "    results_3[\"pieton\"].append(result[1])\r\n",
        "\r\n",
        "print(results_1)\r\n",
        "print(results_2)\r\n",
        "print(results_3)\r\n",
        "\r\n",
        "df = pd.DataFrame(results_1)\r\n",
        "df.to_csv(\"submission_1.1\", index=False)\r\n",
        "df = pd.DataFrame(results_2)\r\n",
        "df.to_csv(\"submission_2.0\", index=False)\r\n",
        "df = pd.DataFrame(results_3)\r\n",
        "df.to_csv(\"submission_3.0\", index=False)\r\n"
      ],
      "execution_count": null,
      "outputs": []
    }
  ]
}